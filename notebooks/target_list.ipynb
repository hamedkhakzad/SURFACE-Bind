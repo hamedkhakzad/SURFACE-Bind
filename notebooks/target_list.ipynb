{
 "cells": [
  {
   "cell_type": "code",
   "execution_count": 17,
   "id": "db66d0f7",
   "metadata": {},
   "outputs": [],
   "source": [
    "target_list_path = \"/work/lpdi/users/khakzad/Surfacome/database/target_list_v2.csv\""
   ]
  },
  {
   "cell_type": "code",
   "execution_count": 18,
   "id": "6a662781",
   "metadata": {},
   "outputs": [],
   "source": [
    "import pandas as pd"
   ]
  },
  {
   "cell_type": "code",
   "execution_count": 19,
   "id": "1a678524",
   "metadata": {},
   "outputs": [
    {
     "data": {
      "text/html": [
       "<div>\n",
       "<style scoped>\n",
       "    .dataframe tbody tr th:only-of-type {\n",
       "        vertical-align: middle;\n",
       "    }\n",
       "\n",
       "    .dataframe tbody tr th {\n",
       "        vertical-align: top;\n",
       "    }\n",
       "\n",
       "    .dataframe thead th {\n",
       "        text-align: right;\n",
       "    }\n",
       "</style>\n",
       "<table border=\"1\" class=\"dataframe\">\n",
       "  <thead>\n",
       "    <tr style=\"text-align: right;\">\n",
       "      <th></th>\n",
       "      <th>UniProt name</th>\n",
       "      <th>UniProt accession</th>\n",
       "      <th>UniProt gene</th>\n",
       "      <th>CD</th>\n",
       "      <th>protein type</th>\n",
       "    </tr>\n",
       "  </thead>\n",
       "  <tbody>\n",
       "    <tr>\n",
       "      <th>0</th>\n",
       "      <td>CNTFR_HUMAN</td>\n",
       "      <td>P26992</td>\n",
       "      <td>CNTFR</td>\n",
       "      <td>NaN</td>\n",
       "      <td>cytokine receptor</td>\n",
       "    </tr>\n",
       "    <tr>\n",
       "      <th>1</th>\n",
       "      <td>CSF2R_HUMAN</td>\n",
       "      <td>P15509</td>\n",
       "      <td>CSF2RA</td>\n",
       "      <td>CD116</td>\n",
       "      <td>cytokine receptor</td>\n",
       "    </tr>\n",
       "    <tr>\n",
       "      <th>2</th>\n",
       "      <td>CSF3R_HUMAN</td>\n",
       "      <td>Q99062</td>\n",
       "      <td>CSF3R</td>\n",
       "      <td>CD114</td>\n",
       "      <td>cytokine receptor</td>\n",
       "    </tr>\n",
       "    <tr>\n",
       "      <th>3</th>\n",
       "      <td>EPOR_HUMAN</td>\n",
       "      <td>P19235</td>\n",
       "      <td>EPOR</td>\n",
       "      <td>NaN</td>\n",
       "      <td>cytokine receptor</td>\n",
       "    </tr>\n",
       "    <tr>\n",
       "      <th>4</th>\n",
       "      <td>GHR_HUMAN</td>\n",
       "      <td>P10912</td>\n",
       "      <td>GHR</td>\n",
       "      <td>NaN</td>\n",
       "      <td>cytokine receptor</td>\n",
       "    </tr>\n",
       "    <tr>\n",
       "      <th>...</th>\n",
       "      <td>...</td>\n",
       "      <td>...</td>\n",
       "      <td>...</td>\n",
       "      <td>...</td>\n",
       "      <td>...</td>\n",
       "    </tr>\n",
       "    <tr>\n",
       "      <th>112</th>\n",
       "      <td>PTH1R_HUMAN</td>\n",
       "      <td>Q03431</td>\n",
       "      <td>PTH1R</td>\n",
       "      <td>NaN</td>\n",
       "      <td>secretin GPCR</td>\n",
       "    </tr>\n",
       "    <tr>\n",
       "      <th>113</th>\n",
       "      <td>PTH2R_HUMAN</td>\n",
       "      <td>P49190</td>\n",
       "      <td>PTH2R</td>\n",
       "      <td>NaN</td>\n",
       "      <td>secretin GPCR</td>\n",
       "    </tr>\n",
       "    <tr>\n",
       "      <th>114</th>\n",
       "      <td>SCTR_HUMAN</td>\n",
       "      <td>P47872</td>\n",
       "      <td>SCTR</td>\n",
       "      <td>NaN</td>\n",
       "      <td>secretin GPCR</td>\n",
       "    </tr>\n",
       "    <tr>\n",
       "      <th>115</th>\n",
       "      <td>VIPR1_HUMAN</td>\n",
       "      <td>P32241</td>\n",
       "      <td>VIPR1</td>\n",
       "      <td>NaN</td>\n",
       "      <td>secretin GPCR</td>\n",
       "    </tr>\n",
       "    <tr>\n",
       "      <th>116</th>\n",
       "      <td>VIPR2_HUMAN</td>\n",
       "      <td>P41587</td>\n",
       "      <td>VIPR2</td>\n",
       "      <td>NaN</td>\n",
       "      <td>secretin GPCR</td>\n",
       "    </tr>\n",
       "  </tbody>\n",
       "</table>\n",
       "<p>117 rows × 5 columns</p>\n",
       "</div>"
      ],
      "text/plain": [
       "    UniProt name UniProt accession UniProt gene     CD       protein type\n",
       "0    CNTFR_HUMAN            P26992        CNTFR    NaN  cytokine receptor\n",
       "1    CSF2R_HUMAN            P15509       CSF2RA  CD116  cytokine receptor\n",
       "2    CSF3R_HUMAN            Q99062        CSF3R  CD114  cytokine receptor\n",
       "3     EPOR_HUMAN            P19235         EPOR    NaN  cytokine receptor\n",
       "4      GHR_HUMAN            P10912          GHR    NaN  cytokine receptor\n",
       "..           ...               ...          ...    ...                ...\n",
       "112  PTH1R_HUMAN            Q03431        PTH1R    NaN      secretin GPCR\n",
       "113  PTH2R_HUMAN            P49190        PTH2R    NaN      secretin GPCR\n",
       "114   SCTR_HUMAN            P47872         SCTR    NaN      secretin GPCR\n",
       "115  VIPR1_HUMAN            P32241        VIPR1    NaN      secretin GPCR\n",
       "116  VIPR2_HUMAN            P41587        VIPR2    NaN      secretin GPCR\n",
       "\n",
       "[117 rows x 5 columns]"
      ]
     },
     "execution_count": 19,
     "metadata": {},
     "output_type": "execute_result"
    }
   ],
   "source": [
    "targets = pd.read_csv(target_list_path, sep=\";\")\n",
    "targets"
   ]
  },
  {
   "cell_type": "code",
   "execution_count": 21,
   "id": "d7871893",
   "metadata": {},
   "outputs": [
    {
     "data": {
      "text/plain": [
       "array(['P26992', 'P15509', 'Q99062', 'P19235', 'P10912', 'Q14626',\n",
       "       'P42701', 'Q99665', 'P78552', 'Q14627', 'Q13261', 'O95256',\n",
       "       'Q13478', 'Q9NPH3', 'P14778', 'P27930', 'Q9HBE5', 'Q5VWK5',\n",
       "       'P01589', 'P14784', 'P31785', 'Q8NI17', 'P26951', 'P32927',\n",
       "       'P24394', 'Q01344', 'P08887', 'P40189', 'P16871', 'Q01113',\n",
       "       'Q01638', 'Q9HB29', 'Q9NZN1', 'Q9NP60', 'P48357', 'P42702',\n",
       "       'Q99650', 'P16471', 'Q6IA17', 'P40238', 'Q13651', 'Q08334',\n",
       "       'Q9UHF4', 'Q6UXL0', 'Q8N6P7', 'P17181', 'P48551', 'P15260',\n",
       "       'P38484', 'Q8IU57', 'P00533', 'P04626', 'P21860', 'Q15303',\n",
       "       'P11362', 'P21802', 'P22607', 'P22455', 'O75578', 'Q9UKX5',\n",
       "       'P56199', 'P17301', 'P08514', 'P26006', 'P13612', 'P08648',\n",
       "       'P23229', 'Q13683', 'P53708', 'Q13797', 'Q13349', 'P38570',\n",
       "       'P20701', 'P11215', 'P06756', 'P20702', 'P05556', 'P05107',\n",
       "       'P05106', 'P16144', 'P18084', 'P18564', 'P26010', 'P26012',\n",
       "       'P42261', 'P42262', 'P42263', 'P48058', 'Q9ULK0', 'O43424',\n",
       "       'P39086', 'Q13002', 'Q13003', 'Q16099', 'Q16478', 'Q8TCU5',\n",
       "       'O60391', 'Q12879', 'Q13224', 'Q14957', 'O15399', 'Q05586',\n",
       "       'P30988', 'Q16602', 'P34998', 'Q13324', 'Q02643', 'P48546',\n",
       "       'P43220', 'O95838', 'Q5UAW9', 'P41586', 'Q03431', 'P49190',\n",
       "       'P47872', 'P32241', 'P41587'], dtype=object)"
      ]
     },
     "execution_count": 21,
     "metadata": {},
     "output_type": "execute_result"
    }
   ],
   "source": [
    "uniprot_ids = targets['UniProt accession'].unique()\n",
    "uniprot_ids"
   ]
  },
  {
   "cell_type": "code",
   "execution_count": 22,
   "id": "0ad1766c",
   "metadata": {},
   "outputs": [],
   "source": [
    "import os\n",
    "import shutil"
   ]
  },
  {
   "cell_type": "code",
   "execution_count": 24,
   "id": "4888813c",
   "metadata": {},
   "outputs": [],
   "source": [
    "AF_db = \"/work/lpdi/users/khakzad/phospho_db/AF_dbs/Human_pdbs/\"\n",
    "target = '/work/lpdi/users/khakzad/Surfacome/pdbs/'\n",
    "# os.makedirs(target, exist_ok=True)\n",
    "\n",
    "for index, row in targets.iterrows():\n",
    "    acc = row['UniProt accession']\n",
    "    \n",
    "    target_name = f\"AF-{acc}-F1-model_v2.pdb.gz\"\n",
    "    pdb_to_move = os.path.join(AF_db, target_name)\n",
    "    shutil.copyfile(pdb_to_move, f'{target}{acc}.pdb.gz')"
   ]
  },
  {
   "cell_type": "code",
   "execution_count": null,
   "id": "76ca9bf3",
   "metadata": {},
   "outputs": [],
   "source": []
  }
 ],
 "metadata": {
  "kernelspec": {
   "display_name": "Python 3 (ipykernel)",
   "language": "python",
   "name": "python3"
  },
  "language_info": {
   "codemirror_mode": {
    "name": "ipython",
    "version": 3
   },
   "file_extension": ".py",
   "mimetype": "text/x-python",
   "name": "python",
   "nbconvert_exporter": "python",
   "pygments_lexer": "ipython3",
   "version": "3.7.7"
  }
 },
 "nbformat": 4,
 "nbformat_minor": 5
}
