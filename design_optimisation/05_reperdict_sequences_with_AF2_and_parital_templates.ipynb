{
 "cells": [
  {
   "cell_type": "markdown",
   "id": "17ceee07-7147-4777-9024-1e39f84e0640",
   "metadata": {},
   "source": [
    "# This notebook is to predict the ProteinMPNN optimised sequences using AF2 and partial masked templates\n",
    "*This Notebook runs ColabDesign version of AF2*"
   ]
  },
  {
   "cell_type": "markdown",
   "id": "9d373c3f-b5bb-4ba8-8b28-bda8b44ef2a9",
   "metadata": {},
   "source": [
    "## 1.0 Libraries"
   ]
  },
  {
   "cell_type": "code",
   "execution_count": null,
   "id": "72da3983-5fe7-468b-ae70-c27b9cd9e08b",
   "metadata": {},
   "outputs": [],
   "source": [
    "import jax, os, copy, pickle, glob, datetime, shutil\n",
    "import jax.numpy as jnp\n",
    "import numpy as np\n",
    "\n",
    "from colabdesign import mk_af_model\n",
    "\n",
    "import pandas as pd\n",
    "import matplotlib.pyplot as plt\n",
    "import seaborn as sns\n",
    "import numpy as np\n",
    "from tqdm.notebook import tqdm\n",
    "\n",
    "from colabdesign.af.alphafold.common import protein\n",
    "from colabdesign.shared.protein import renum_pdb_str\n",
    "from colabdesign.af.alphafold.common import residue_constants\n",
    "\n",
    "from colabdesign.af.loss import *\n",
    "from colabdesign.af.loss import _get_pw_loss\n",
    "\n",
    "from Bio.PDB import PDBParser\n",
    "from Bio import SeqUtils\n",
    "from scipy.spatial.distance import cdist"
   ]
  },
  {
   "cell_type": "markdown",
   "id": "317d51fa-03d1-4d45-9b26-1616d69dab5a",
   "metadata": {
    "tags": []
   },
   "source": [
    "## 2.0 Functions"
   ]
  },
  {
   "cell_type": "code",
   "execution_count": null,
   "id": "0240a7da",
   "metadata": {},
   "outputs": [],
   "source": [
    "def rank_array_predict(input_array):\n",
    "    # numpy.argsort returns the indices that would sort an array.\n",
    "    # We convert it to a python list before returning\n",
    "    return list(np.argsort(input_array))[::-1]\n",
    "\n",
    "def rank_and_write_pdb_predict(af_model, name, write_all=False, renum_pdb = True):\n",
    "    ranking = rank_array_predict(np.mean(af_model.aux['all']['plddt'],-1))\n",
    "    if write_all != True:\n",
    "        ranking = [ranking[0]]\n",
    "    \n",
    "    aux = af_model.aux\n",
    "    aux = aux[\"all\"]\n",
    "    \n",
    "    p = {k:aux[k] for k in [\"aatype\",\"residue_index\",\"atom_positions\",\"atom_mask\"]}\n",
    "    p[\"b_factors\"] = 100 * p[\"atom_mask\"] * aux[\"plddt\"][...,None]\n",
    "    \n",
    "    def to_pdb_str(x, n=None):\n",
    "        p_str = protein.to_pdb(protein.Protein(**x))\n",
    "        p_str = \"\\n\".join(p_str.splitlines()[1:-2])\n",
    "        if renum_pdb: p_str = renum_pdb_str(p_str, af_model._lengths)\n",
    "        #if n is not None:\n",
    "        #    p_str = f\"MODEL{n:8}\\n{p_str}\\nENDMDL\\n\"\n",
    "        return p_str\n",
    "\n",
    "    m=1\n",
    "    \n",
    "    pdbs_out = []\n",
    "    \n",
    "    for n in ranking:\n",
    "        p_str = \"\"\n",
    "        p_str += to_pdb_str(jax.tree_map(lambda x:x[n],p), n+1)\n",
    "        p_str += \"END\\n\"\n",
    "\n",
    "        with open(name + '_model_{n}_rank_{m}.pdb'.format(n=n, m=m), 'w') as f:\n",
    "            f.write(p_str)\n",
    "        pdbs_out.append(name + '_model_{n}_rank_{m}.pdb'.format(n=n, m=m))\n",
    "        m+=1\n",
    "    return pdbs_out"
   ]
  },
  {
   "cell_type": "code",
   "execution_count": null,
   "id": "44b8eb17-19db-4094-a4cd-4e971f6c3c5e",
   "metadata": {},
   "outputs": [],
   "source": [
    "def get_interface_info(pdb:str, binder_chain:str, thresh:float=5.0) -> str:\n",
    "    \"\"\"\n",
    "    This function is to return the string of hotpots for a certain structure\n",
    "    :params:\n",
    "        - pdb          : the pdb to be processed\n",
    "        - binder_chain : the binder chain ID for which the hotspot residues will be defined\n",
    "        - thresh       : Distance threshold below which a residue would be considered as a hotspot, DEFAULT = 5.0 A \n",
    "    \"\"\"\n",
    "      \n",
    "    # load the pdb file\n",
    "    struct = PDBParser(QUIET=True).get_structure(os.path.basename(pdb), pdb)\n",
    "    \n",
    "    # define the chains\n",
    "    binder_chains = list(binder_chain)\n",
    "    target_chains = [x.id for x in struct.get_chains() if x.id not in binder_chains]\n",
    "\n",
    "    # get binder and target lengths\n",
    "    binder_chain_length = len(struct[0][binder_chains[0]])\n",
    "    target_chain_length = len(struct[0][target_chains[0]])\n",
    "    \n",
    "    # get binder first resnum\n",
    "    binder_first_res_num = int(list(struct[0][binder_chains[0]].get_residues())[0].id[1])\n",
    "    target_first_res_num = int(list(struct[0][target_chains[0]].get_residues())[0].id[1])\n",
    "    target_last_res_num = int(list(struct[0][target_chains[0]].get_residues())[-1].id[1])\n",
    "\n",
    "    # get the atom coords \n",
    "    target_atoms = np.array([atom.get_coord() for atom in struct.get_atoms() if atom.get_full_id()[2] in target_chains if 'H' not in atom.get_full_id()[4][0]])\n",
    "    binder_atoms = np.array([atom.get_coord() for atom in struct.get_atoms() if atom.get_full_id()[2] in binder_chains if 'H' not in atom.get_full_id()[4][0]])\n",
    "    \n",
    "    # map atoms to residues\n",
    "    binder_residues = np.array([atom.get_parent().id[1] for atom in struct.get_atoms() if atom.get_full_id()[2] in binder_chains if 'H' not in atom.get_full_id()[4][0]])\n",
    "    \n",
    "    # generate the distance matrix\n",
    "    dists = cdist(target_atoms, binder_atoms)\n",
    "    \n",
    "    # return the binder atoms that are closest to target chains\n",
    "    closest_binder_atoms_clac = np.argmin(dists, axis=1)\n",
    "     \n",
    "    # get binder atoms that are within the targeted threshold\n",
    "    closest_binder_atoms = closest_binder_atoms_clac[dists[np.arange(len(dists)), closest_binder_atoms_clac] < thresh]\n",
    "    \n",
    "    # get the hotspot residues that correspond to the closest atoms\n",
    "    hotspot_residues = sorted(list(set(binder_residues[closest_binder_atoms])))\n",
    "    \n",
    "    # generate the hotspots list\n",
    "    hotspots = [int(item) for item in hotspot_residues]\n",
    "    \n",
    "    return hotspots, binder_first_res_num, binder_chain_length, binder_chains[0], target_chains[0], target_first_res_num, target_last_res_num"
   ]
  },
  {
   "cell_type": "code",
   "execution_count": null,
   "id": "6bb1c794-b883-4cff-ab50-7823d46c62c0",
   "metadata": {},
   "outputs": [],
   "source": [
    "def extract_target_info(path:str, target_chain:str):\n",
    "    \"\"\" This function is to extract the target protein \"\"\"\n",
    "    # load target\n",
    "    parser1 = PDBParser(QUIET=True)\n",
    "    struct = parser1.get_structure(os.path.basename(path), path)[0][target_chain]   \n",
    "    target_seq = SeqUtils.seq1(\"\".join([r.get_resname() for r in struct.get_residues()]))\n",
    "    return target_seq"
   ]
  },
  {
   "cell_type": "code",
   "execution_count": null,
   "id": "8a4388e9-2f9e-4ee7-a898-670574598338",
   "metadata": {},
   "outputs": [],
   "source": [
    "def plot_af_scores(df:pd.DataFrame, outpath:str, iden:str, export:bool=False, show:bool=False):\n",
    "    \"\"\"\n",
    "    \"\"\"\n",
    "    \n",
    "    labels = {\n",
    "        'multimer_plddt':'pLDDT',\n",
    "        'multimer_ptm' : 'pTM',\n",
    "        'multimer_iptm': 'Interface pTM', \n",
    "        'multimer_complex_rmsd':'RMSD (A)' \n",
    "               }\n",
    "    \n",
    "    fig, axs = plt.subplots( nrows=1, ncols=len(list(labels.keys())), figsize=[15,6] )\n",
    "\n",
    "    for i,k in enumerate(labels.keys()):\n",
    "        sns.violinplot(y=k,  data=df, ax=axs[i], inner='points', color='#DCDCDC')\n",
    "        axs[i].set_ylabel(labels[k], fontsize=12 ,labelpad= 10.0)\n",
    "\n",
    "    plt.suptitle(f\"\"\"{df.shape[0]} {iden}\n",
    "    \"\"\", fontsize=16, fontweight='bold')\n",
    "    plt.tight_layout(h_pad=5.0, w_pad=3.0)\n",
    "\n",
    "    if export:\n",
    "        plt.savefig(f'{outpath}/{datetime.date.today()}_{iden.lower().replace(\" \", \"_\")}.png', format=\"png\" ,dpi=300, transparent=True)\n",
    "        plt.savefig(f'{outpath}/{datetime.date.today()}_{iden.lower().replace(\" \", \"_\")}.svg', format=\"svg\" ,dpi=300, transparent=False)\n",
    "    \n",
    "    if show:\n",
    "        plt.show()\n",
    "    else:\n",
    "        plt.close()\n",
    "    \n",
    "    return None"
   ]
  },
  {
   "cell_type": "markdown",
   "id": "ec93ab4b-c997-412d-bb57-2cd978756864",
   "metadata": {},
   "source": [
    "## 3.0 Variables to set"
   ]
  },
  {
   "cell_type": "code",
   "execution_count": null,
   "id": "47611589-d81b-41bc-ac7e-acd542fe2ec9",
   "metadata": {},
   "outputs": [],
   "source": [
    "# set variables (Modify this only)\n",
    "mpnn_output_folder = \"{PATH_to_'sol_mpnn_{strategy_name}_output'}, e.g., ./sol_mpnn_fixed_interface/\"\n",
    "target_models      = \"{PATH_TO_ROSETTA_INPUT_MODELS}\"\n",
    "params_path        = \"{PATH_TO_AF2_'params'_FOLDER}\"\n",
    "\n",
    "binder_chain_input = 'B'\n",
    "interface_thresh   = 5.0\n",
    "ipTM_thresh        = 0.7"
   ]
  },
  {
   "cell_type": "markdown",
   "id": "f94998ca-f2d5-4ff9-bb98-c3b56733e6fb",
   "metadata": {},
   "source": [
    "## 4.0 I/O"
   ]
  },
  {
   "cell_type": "code",
   "execution_count": null,
   "id": "cffab549-47a0-47aa-9aaf-13064b0d7069",
   "metadata": {},
   "outputs": [],
   "source": [
    "# find the mpnn output analysis folder\n",
    "mpnn_output_analysis_folder = [p.strip() for p in glob.iglob(os.path.join(mpnn_output_folder, \"*\")) if os.path.isdir(p) if \"analysis\" in p]\n",
    "assert len(mpnn_output_analysis_folder) == 1, \"File finding failure\"\n",
    "\n",
    "mpnn_output_analysis_folder = mpnn_output_analysis_folder[0]\n",
    "print(mpnn_output_analysis_folder)"
   ]
  },
  {
   "cell_type": "code",
   "execution_count": null,
   "id": "d610e478-3109-48e9-8695-f1b8b14ca637",
   "metadata": {},
   "outputs": [],
   "source": [
    "# make main output folder\n",
    "output = os.path.join(mpnn_output_analysis_folder, \"af2_mulltimer_pred\")\n",
    "os.makedirs(output, exist_ok=0)\n",
    "\n",
    "# make af pred output folder\n",
    "af_pred = os.path.join(output, 'af2_multimer_pred_output')\n",
    "os.makedirs(af_pred, exist_ok=0)\n",
    "\n",
    "# make pdb output folder\n",
    "pdb_out = os.path.join(af_pred, 'pdbs')\n",
    "os.makedirs(pdb_out, exist_ok=0)\n",
    "\n",
    "# make score output folder\n",
    "sc_out = os.path.join(af_pred, 'scores')\n",
    "os.makedirs(sc_out, exist_ok=0)\n",
    "\n",
    "# make af pred analysis output folder\n",
    "af_pred_analysis = os.path.join(output, 'af2_multimer_pred_analysis')\n",
    "os.makedirs(af_pred_analysis, exist_ok=0)\n",
    "\n",
    "# make best pdbs out\n",
    "best_pdb_out = os.path.join(af_pred_analysis, 'best_pdbs')\n",
    "os.makedirs(best_pdb_out, exist_ok=0)"
   ]
  },
  {
   "cell_type": "markdown",
   "id": "e31039aa-16d3-48de-a47b-787f77155bc2",
   "metadata": {},
   "source": [
    "## 5.0 Predicting"
   ]
  },
  {
   "cell_type": "code",
   "execution_count": null,
   "id": "87a0ceab-9432-4143-b6a8-edc851f7b47c",
   "metadata": {},
   "outputs": [],
   "source": [
    "# path to input structures\n",
    "target_models_paths = [p.strip() for p in glob.iglob(os.path.join(target_models, '*.pdb'))]\n",
    "print(str(len(target_models_paths)) + ' Parsed input files')"
   ]
  },
  {
   "cell_type": "code",
   "execution_count": null,
   "id": "89ef0c30-412f-46d7-9481-3a2486407b63",
   "metadata": {},
   "outputs": [],
   "source": [
    "# parse af monomer selection results\n",
    "af_monomer_selection_file = [p.strip() for p in glob.iglob(os.path.join(mpnn_output_analysis_folder, \"*\", \"*.csv\"))\n",
    "                             if \"af2_monomer_pred_analysis\" in p\n",
    "                             if \"af_monomer_selection\" in p\n",
    "                            ]\n",
    "assert len(af_monomer_selection_file) == 1, \"File finding error\"\n",
    "\n",
    "df_parsed = pd.read_csv(af_monomer_selection_file[0], index_col=0)\n",
    "print(str(df_parsed.shape[0]) + ' Parsed sequences')"
   ]
  },
  {
   "cell_type": "code",
   "execution_count": null,
   "id": "06e17809-8a5d-4f92-b7fa-6b17173817a7",
   "metadata": {},
   "outputs": [],
   "source": [
    "# map the mpnn to the source models\n",
    "map_dic = {}\n",
    "\n",
    "for gp01 in tqdm(df_parsed.groupby(by='parent'), desc=\"Mapping models\"):\n",
    "    path_ = [os.path.abspath(p) for p in target_models_paths if gp01[0].replace('x','_') in p][0]\n",
    "    mpnn_seqs = [(d.replace('>',''),s) for d,s in zip(gp01[1].label, gp01[1].sequence)]\n",
    "    assert gp01[1].shape[0] == len(mpnn_seqs), 'Parsing error'\n",
    "    map_dic[path_] = mpnn_seqs\n",
    "    \n",
    "assert len(map_dic.keys()) != None, \"Model mapping failure\""
   ]
  },
  {
   "cell_type": "code",
   "execution_count": null,
   "id": "66f48afc-ebc1-4c2b-8c65-49be0da98da3",
   "metadata": {
    "scrolled": true,
    "tags": []
   },
   "outputs": [],
   "source": [
    "# Predict\n",
    "print('Predicting...')\n",
    "for pdb, mpnned in tqdm(map_dic.items()):\n",
    "    # get target information\n",
    "    design_pos, binder_first_res_num, binder_chain_length, binder_chain, target_chain, target_first_res_num, target_last_res_num = get_interface_info(pdb=pdb, binder_chain=binder_chain_input, thresh=interface_thresh)\n",
    "    \n",
    "    # the positions we want to keep fixed to AF2seq\n",
    "    fix_pos = []\n",
    "    for i in range(int(binder_first_res_num), binder_chain_length + 1):\n",
    "        if i not in design_pos:\n",
    "            fix_pos.append(f\"{binder_chain}\" + str(i))\n",
    "    for i in range(target_first_res_num, target_last_res_num + 1):\n",
    "        fix_pos.append(f\"{target_chain}\" + str(i))\n",
    "    # get the fixed positions\n",
    "    fix_pos = ','.join(fix_pos)\n",
    "    \n",
    "    # initialise af\n",
    "    af_model = mk_af_model(protocol='fixbb', use_templates=True, initial_guess=False,data_dir=params_path)\n",
    "    af_model.prep_inputs(pdb_filename=pdb, chain=f'{target_chain},{binder_chain}', fix_pos=fix_pos)\n",
    "    \n",
    "    # Mask design positions from template\n",
    "    for j in design_pos:\n",
    "        af_model._inputs['batch']['all_atom_mask'][j-1,:] = np.zeros_like(af_model._inputs['batch']['all_atom_mask'][j-1,:])\n",
    "    \n",
    "    for item in mpnned:\n",
    "        name_ = item[0]\n",
    "        seq_ = item[1]\n",
    "        # get the complex sequence from the pdb Target + Design\n",
    "        cmplx_seq = extract_target_info(path=pdb, target_chain=target_chain) + seq_ \n",
    "        # run the prediction\n",
    "        af_model.set_seq(cmplx_seq)\n",
    "        af_model.predict(num_recycles=3, models = [0,1], num_models=2)\n",
    "        pdbs = rank_and_write_pdb_predict(af_model, name=os.path.join(pdb_out,name_))\n",
    "        \n",
    "        # get af scores\n",
    "        af_sc = pd.DataFrame({'design':name_,\n",
    "                              'multimer_plddt':af_model.aux['all']['plddt'].mean(),\n",
    "                              'multimer_ptm':af_model.aux['all']['ptm'].mean(),\n",
    "                              'multimer_iptm':af_model.aux['all']['i_ptm'].mean(),\n",
    "                              'multimer_complex_rmsd':af_model.aux['all']['losses']['rmsd'].mean()}, index=[0])\n",
    "        af_sc.to_csv(os.path.join(sc_out, name_+'_scores.csv'))"
   ]
  },
  {
   "cell_type": "markdown",
   "id": "413f5884-1dc2-4854-85d3-62073d0828a9",
   "metadata": {},
   "source": [
    "## 6.0 Predictions analysis"
   ]
  },
  {
   "cell_type": "code",
   "execution_count": null,
   "id": "58a2bcb0-5cb8-4270-b580-f71795d42d62",
   "metadata": {},
   "outputs": [],
   "source": [
    "# Parse af model scores\n",
    "sc_paths = [p.strip() for p in glob.iglob(os.path.join(sc_out, '*.csv'))]\n",
    "df_af_sc = pd.concat([pd.read_csv(s, index_col=0) for s in sc_paths])\n",
    "df_af_sc.sort_values(by='multimer_iptm', ascending=False, inplace=True)\n",
    "df_af_sc.reset_index(drop=True, inplace=True)\n",
    "df_af_sc.to_csv(os.path.join(af_pred_analysis, 'all_af2_multimer_models_scores.csv'))\n",
    "print(str(df_af_sc.shape[0]) + ' Parsed Designs')"
   ]
  },
  {
   "cell_type": "code",
   "execution_count": null,
   "id": "0be4aab3-050d-427e-961b-5d05d34212cd",
   "metadata": {},
   "outputs": [],
   "source": [
    "# Get best designs based on the iptm scores\n",
    "df_af_sel = df_af_sc.copy()[(df_af_sc.multimer_iptm >= ipTM_thresh)].reset_index(drop=True)\n",
    "df_af_sel.to_csv(os.path.join(af_pred_analysis, 'best_af2_multimer_models_scores.csv'))\n",
    "print(str(df_af_sel.shape[0]) + ' Best designs')"
   ]
  },
  {
   "cell_type": "code",
   "execution_count": null,
   "id": "7cb39c76-7d26-4572-8527-5d4c4f487c6c",
   "metadata": {},
   "outputs": [],
   "source": [
    "# merge with all scores and export a full info file\n",
    "\n",
    "# formatting\n",
    "df_af_sel[\"label\"] =df_af_sel[\"design\"].apply(lambda x: \">\"+x) \n",
    "\n",
    "# Merging\n",
    "df_merged = pd.merge(left=df_parsed, right=df_af_sel, on=\"label\", how=\"inner\").reset_index(drop=True)\n",
    "assert df_merged.shape[0] == df_af_sel.shape[0], \"Merging error\"\n",
    "\n",
    "df_merged.to_csv(os.path.join(af_pred_analysis, 'af2_multimer_selection.csv'))"
   ]
  },
  {
   "cell_type": "code",
   "execution_count": null,
   "id": "4646cd4b-b414-4e41-aba1-a85c551d9334",
   "metadata": {},
   "outputs": [],
   "source": [
    "# Get the best designs\n",
    "pdb_paths = [p.strip() for p in glob.iglob(os.path.join(pdb_out,'*.pdb'))]\n",
    "\n",
    "for des in tqdm(df_af_sel.design, desc='Copying best designs models'):\n",
    "    path_ = [p for p in pdb_paths if des in p][0]\n",
    "    shutil.copy(path_, os.path.join(best_pdb_out, os.path.basename(path_)))"
   ]
  },
  {
   "cell_type": "code",
   "execution_count": null,
   "id": "0ad6ebd3-bead-474a-bad1-d00b7fbd7f38",
   "metadata": {},
   "outputs": [],
   "source": [
    "# Plot scores\n",
    "print('Ploting...')\n",
    "plot_af_scores(df=df_af_sc,  iden='Parsed MPNN Designs', outpath=af_pred_analysis, export=True, show=True)\n",
    "plot_af_scores(df=df_af_sel, iden='Best MPNN Designs',   outpath=af_pred_analysis, export=True, show=True)"
   ]
  },
  {
   "cell_type": "code",
   "execution_count": null,
   "id": "4d94a196-c796-4f28-a04f-80c471d8ee25",
   "metadata": {},
   "outputs": [],
   "source": []
  }
 ],
 "metadata": {
  "kernelspec": {
   "display_name": "ColabDesign",
   "language": "python",
   "name": "colabdesign"
  },
  "language_info": {
   "codemirror_mode": {
    "name": "ipython",
    "version": 3
   },
   "file_extension": ".py",
   "mimetype": "text/x-python",
   "name": "python",
   "nbconvert_exporter": "python",
   "pygments_lexer": "ipython3",
   "version": "3.10.13"
  }
 },
 "nbformat": 4,
 "nbformat_minor": 5
}
